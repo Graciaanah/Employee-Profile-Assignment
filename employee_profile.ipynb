{
 "cells": [
  {
   "cell_type": "code",
   "execution_count": 5,
   "id": "f9bd6632",
   "metadata": {},
   "outputs": [
    {
     "name": "stdout",
     "output_type": "stream",
     "text": [
      "        EmployeeName                                        JobTitle  \\\n",
      "0     NATHANIEL FORD  GENERAL MANAGER-METROPOLITAN TRANSIT AUTHORITY   \n",
      "1       GARY JIMENEZ                 CAPTAIN III (POLICE DEPARTMENT)   \n",
      "2     ALBERT PARDINI                 CAPTAIN III (POLICE DEPARTMENT)   \n",
      "3  CHRISTOPHER CHONG            WIRE ROPE CABLE MAINTENANCE MECHANIC   \n",
      "4    PATRICK GARDNER    DEPUTY CHIEF OF DEPARTMENT,(FIRE DEPARTMENT)   \n",
      "\n",
      "     BasePay OvertimePay   OtherPay      Benefits   TotalPay  \\\n",
      "0  167411.18         0.0  400184.25  Not Provided  567595.43   \n",
      "1  155966.02   245131.88  137811.38  Not Provided  538909.28   \n",
      "2  212739.13   106088.18    16452.6  Not Provided  335279.91   \n",
      "3    77916.0    56120.71   198306.9  Not Provided  332343.61   \n",
      "4   134401.6      9737.0  182234.59  Not Provided  326373.19   \n",
      "\n",
      "   TotalPayBenefits  Year  \n",
      "0         567595.43  2011  \n",
      "1         538909.28  2011  \n",
      "2         335279.91  2011  \n",
      "3         332343.61  2011  \n",
      "4         326373.19  2011  \n"
     ]
    },
    {
     "name": "stderr",
     "output_type": "stream",
     "text": [
      "/var/folders/gx/3__57w255_743r5y7y24j_cc0000gp/T/ipykernel_85163/1699648783.py:11: DtypeWarning: Columns (2,3,4,5) have mixed types. Specify dtype option on import or set low_memory=False.\n",
      "  salary_df = pd.read_csv(f)\n"
     ]
    }
   ],
   "source": [
    "import pandas as pd\n",
    "import zipfile\n",
    "import os\n",
    "\n",
    "# Read CSV from ZIP file\n",
    "zip_path = 'salary_data.csv.zip'\n",
    "csv_filename = 'salary_data.csv'  # Change to your actual CSV filename\n",
    "\n",
    "with zipfile.ZipFile(zip_path) as z:\n",
    "    with z.open(csv_filename) as f:\n",
    "        salary_df = pd.read_csv(f)\n",
    "        print(salary_df.head())"
   ]
  },
  {
   "cell_type": "code",
   "execution_count": 6,
   "id": "employee-function",
   "metadata": {},
   "outputs": [],
   "source": [
    "#Function to get employee details\n",
    "def get_employee_details(name, df):\n",
    "    employee = df[df['EmployeeName'].str.lower() == name.lower()]\n",
    "    if not employee.empty:\n",
    "        return employee\n",
    "    else:\n",
    "        raise ValueError(\"Employee not found.\")"
   ]
  },
  {
   "cell_type": "code",
   "execution_count": 7,
   "id": "dictionary-processing",
   "metadata": {},
   "outputs": [],
   "source": [
    "# Convert to dictionary\n",
    "employee_dicts = salary_df.to_dict(orient='records')\n",
    "employee_dict = {emp['EmployeeName']: emp for emp in employee_dicts}"
   ]
  },
  {
   "cell_type": "code",
   "execution_count": 8,
   "id": "error-handling",
   "metadata": {},
   "outputs": [
    {
     "name": "stdout",
     "output_type": "stream",
     "text": [
      "         EmployeeName                         JobTitle    BasePay OvertimePay  \\\n",
      "2      ALBERT PARDINI  CAPTAIN III (POLICE DEPARTMENT)  212739.13   106088.18   \n",
      "36519  Albert Pardini                        Captain 3  196265.04         0.0   \n",
      "\n",
      "       OtherPay      Benefits   TotalPay  TotalPayBenefits  Year  \n",
      "2       16452.6  Not Provided  335279.91         335279.91  2011  \n",
      "36519  11404.04      46326.21  207669.08         253995.29  2012  \n"
     ]
    }
   ],
   "source": [
    "# Example with error handling\n",
    "try:\n",
    "    details = get_employee_details('albert pardini', salary_df)\n",
    "    print(details)\n",
    "except ValueError as e:\n",
    "    print(f\"Error: {e}\")"
   ]
  },
  {
   "cell_type": "code",
   "execution_count": 9,
   "id": "export-csv-zip",
   "metadata": {},
   "outputs": [],
   "source": [
    "# Export to CSV and ZIP\n",
    "def export_employee_to_zip(name, df):\n",
    "    try:\n",
    "        emp = get_employee_details(name, df)\n",
    "        filename = f\"{name.replace(' ', '_')}_details.csv\"\n",
    "        folder = \"Employee_Profile\"\n",
    "        os.makedirs(folder, exist_ok=True)\n",
    "        emp.to_csv(os.path.join(folder, filename), index=False)\n",
    "        \n",
    "        with zipfile.ZipFile(f\"{folder}.zip\", 'w') as zipf:\n",
    "            zipf.write(os.path.join(folder, filename), arcname=filename)\n",
    "        \n",
    "        print(f\"{filename} successfully exported and zipped.\")\n",
    "    except Exception as e:\n",
    "        print(f\"Failed: {e}\")"
   ]
  },
  {
   "cell_type": "code",
   "execution_count": 10,
   "id": "42eb29bc",
   "metadata": {},
   "outputs": [
    {
     "name": "stdout",
     "output_type": "stream",
     "text": [
      "albert_pardini_details.csv successfully exported and zipped.\n"
     ]
    }
   ],
   "source": [
    "# Export all employees to a single CSV and ZIP\n",
    "export_employee_to_zip('albert pardini', salary_df)"
   ]
  }
 ],
 "metadata": {
  "kernelspec": {
   "display_name": "base",
   "language": "python",
   "name": "python3"
  },
  "language_info": {
   "codemirror_mode": {
    "name": "ipython",
    "version": 3
   },
   "file_extension": ".py",
   "mimetype": "text/x-python",
   "name": "python",
   "nbconvert_exporter": "python",
   "pygments_lexer": "ipython3",
   "version": "3.12.7"
  }
 },
 "nbformat": 4,
 "nbformat_minor": 5
}
